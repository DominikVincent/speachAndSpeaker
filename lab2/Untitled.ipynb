{
 "cells": [
  {
   "cell_type": "code",
   "execution_count": 32,
   "metadata": {
    "scrolled": false
   },
   "outputs": [
    {
     "name": "stdout",
     "output_type": "stream",
     "text": [
      "The autoreload extension is already loaded. To reload it, use:\n",
      "  %reload_ext autoreload\n"
     ]
    }
   ],
   "source": [
    "%load_ext autoreload\n",
    "%autoreload 2\n",
    "\n",
    "import sys\n",
    "import importlib\n",
    "import numpy as np\n",
    "from prondict import *\n",
    "from lab2_proto import *\n",
    "\n",
    "#importlib.import_module(lab2_proto)\n",
    "#importlib.reload(lab2_proto)\n",
    "#print(\"no\")\n",
    "#modules = sys.modules.values()\n",
    "#print(modules)\n",
    "#for module in modules:\n",
    "#    try:\n",
    "#        imp.reload(module)\n",
    "#    except:\n",
    "#        print(module, \" could not be reloaded\")"
   ]
  },
  {
   "cell_type": "code",
   "execution_count": 31,
   "metadata": {},
   "outputs": [],
   "source": [
    "#load data\n",
    "data = np.load('lab2_data.npz', allow_pickle=True)['data']\n",
    "\n",
    "#phoneHMMs = np.load('lab2_models_onespkr.npz', allow_pickle=True)['phoneHMMs'].item()\n",
    "phoneHMMs = np.load('lab2_models_all.npz', allow_pickle=True)['phoneHMMs'].item()"
   ]
  },
  {
   "cell_type": "code",
   "execution_count": 36,
   "metadata": {},
   "outputs": [],
   "source": [
    "# isolate the prondict \n",
    "\n",
    "isolated = {}\n",
    "for pron in prondict.keys():\n",
    "    isolated[pron] = ['sil']+prondict[pron]+['sil']\n",
    "    "
   ]
  },
  {
   "cell_type": "markdown",
   "metadata": {},
   "source": [
    "# concatenation HMM"
   ]
  },
  {
   "cell_type": "code",
   "execution_count": 79,
   "metadata": {},
   "outputs": [
    {
     "name": "stdout",
     "output_type": "stream",
     "text": [
      "[[0.8833106  0.1166894  0.         0.        ]\n",
      " [0.         0.9164465  0.08355348 0.        ]\n",
      " [0.         0.         0.802877   0.197123  ]\n",
      " [0.         0.         0.         1.        ]]\n",
      "[[0.      ]\n",
      " [0.      ]\n",
      " [0.197123]]\n",
      "[[0.       0.       0.       0.      ]\n",
      " [0.       0.       0.       0.      ]\n",
      " [0.197123 0.197123 0.197123 0.197123]]\n",
      "[[0.       0.       0.       0.      ]\n",
      " [0.       0.       0.       0.      ]\n",
      " [0.197123 0.       0.       0.      ]]\n",
      "[[0.8833106  0.1166894  0.         0.         0.         0.\n",
      "  0.        ]\n",
      " [0.         0.9164465  0.08355348 0.         0.         0.\n",
      "  0.        ]\n",
      " [0.         0.         0.802877   0.197123   0.         0.\n",
      "  0.        ]\n",
      " [0.         0.         0.         0.8148277  0.1851723  0.\n",
      "  0.        ]\n",
      " [0.         0.         0.         0.         0.8436188  0.1563813\n",
      "  0.        ]\n",
      " [0.         0.         0.         0.         0.         0.8662466\n",
      "  0.1337534 ]\n",
      " [0.         0.         0.         0.         0.         0.\n",
      "  1.        ]]\n",
      "[[0.       ]\n",
      " [0.       ]\n",
      " [0.       ]\n",
      " [0.       ]\n",
      " [0.       ]\n",
      " [0.1337534]]\n",
      "[[0.        0.        0.        0.       ]\n",
      " [0.        0.        0.        0.       ]\n",
      " [0.        0.        0.        0.       ]\n",
      " [0.        0.        0.        0.       ]\n",
      " [0.        0.        0.        0.       ]\n",
      " [0.1337534 0.1337534 0.1337534 0.1337534]]\n",
      "[[0.        0.        0.        0.       ]\n",
      " [0.        0.        0.        0.       ]\n",
      " [0.        0.        0.        0.       ]\n",
      " [0.        0.        0.        0.       ]\n",
      " [0.        0.        0.        0.       ]\n",
      " [0.1337534 0.        0.        0.       ]]\n"
     ]
    }
   ],
   "source": [
    "wordHMMs = {}\n",
    "wordHMMs['o'] = concatHMMs(phoneHMMs, isolated['o'])"
   ]
  }
 ],
 "metadata": {
  "kernelspec": {
   "display_name": "Python 3",
   "language": "python",
   "name": "python3"
  },
  "language_info": {
   "codemirror_mode": {
    "name": "ipython",
    "version": 3
   },
   "file_extension": ".py",
   "mimetype": "text/x-python",
   "name": "python",
   "nbconvert_exporter": "python",
   "pygments_lexer": "ipython3",
   "version": "3.6.9"
  }
 },
 "nbformat": 4,
 "nbformat_minor": 4
}
