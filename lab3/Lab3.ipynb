{
 "cells": [
  {
   "cell_type": "code",
   "execution_count": 6,
   "metadata": {},
   "outputs": [
    {
     "name": "stdout",
     "output_type": "stream",
     "text": [
      "The autoreload extension is already loaded. To reload it, use:\n",
      "  %reload_ext autoreload\n"
     ]
    }
   ],
   "source": [
    "%load_ext autoreload\n",
    "%autoreload 2\n",
    "import warnings\n",
    "warnings.simplefilter(\"ignore\")\n",
    "import time\n",
    "import random\n",
    "import sys\n",
    "import importlib\n",
    "import editdistance\n",
    "import numpy as np\n",
    "from prondict import *\n",
    "from lab3_proto import *\n",
    "from lab3_tools import *\n",
    "from lab1_proto import *\n",
    "from lab1_tools import *\n",
    "from lab2_proto import *\n",
    "from lab2_tools import *\n",
    "from keras.utils import np_utils\n",
    "from keras.models import Sequential, load_model\n",
    "from keras.layers import Dense, Activation\n",
    "from keras.optimizers import Adam, SGD\n",
    "from keras.callbacks.callbacks import ModelCheckpoint\n",
    "from sklearn.preprocessing import StandardScaler\n",
    "import pandas as pd\n",
    "import matplotlib.pyplot as plt\n",
    "import matplotlib\n",
    "matplotlib.rcParams['figure.figsize'] = (15, 4)\n",
    "np.set_printoptions(precision=3)"
   ]
  },
  {
   "cell_type": "markdown",
   "metadata": {},
   "source": [
    "# Target Class Definition"
   ]
  },
  {
   "cell_type": "code",
   "execution_count": 3,
   "metadata": {},
   "outputs": [
    {
     "name": "stdout",
     "output_type": "stream",
     "text": [
      "['ah_0' 'ah_1' 'ah_2' 'ao_0' 'ao_1' 'ao_2' 'ay_0' 'ay_1' 'ay_2' 'eh_0'\n",
      " 'eh_1' 'eh_2' 'ey_0' 'ey_1' 'ey_2' 'f_0' 'f_1' 'f_2' 'ih_0' 'ih_1' 'ih_2'\n",
      " 'iy_0' 'iy_1' 'iy_2' 'k_0' 'k_1' 'k_2' 'n_0' 'n_1' 'n_2' 'ow_0' 'ow_1'\n",
      " 'ow_2' 'r_0' 'r_1' 'r_2' 's_0' 's_1' 's_2' 'sil_0' 'sil_1' 'sil_2' 'sp_0'\n",
      " 't_0' 't_1' 't_2' 'th_0' 'th_1' 'th_2' 'uw_0' 'uw_1' 'uw_2' 'v_0' 'v_1'\n",
      " 'v_2' 'w_0' 'w_1' 'w_2' 'z_0' 'z_1' 'z_2']\n"
     ]
    },
    {
     "data": {
      "text/plain": [
       "'sil_0'"
      ]
     },
     "execution_count": 3,
     "metadata": {},
     "output_type": "execute_result"
    }
   ],
   "source": [
    "#phoneHMMs = np.load('lab2_models_onespkr.npz', allow_pickle=True)['phoneHMMs'].item()\n",
    "phoneHMMs = np.load('lab2_models_all.npz', allow_pickle=True)['phoneHMMs'].item()\n",
    "phones = sorted(phoneHMMs.keys())\n",
    "nstates = {phone: phoneHMMs[phone]['means'].shape[0] for phone in phones}\n",
    "stateList = [ph + '_' + str(id) for ph in phones for id in range(nstates[ph])]\n",
    "stateList.sort()\n",
    "stateList = np.array(stateList)\n",
    "print(stateList)\n",
    "stateList[39]"
   ]
  },
  {
   "cell_type": "markdown",
   "metadata": {},
   "source": [
    "# load all the data"
   ]
  },
  {
   "cell_type": "code",
   "execution_count": null,
   "metadata": {},
   "outputs": [],
   "source": [
    "example = np.load('lab3_example.npz', allow_pickle=True)['example'].item()\n",
    "example.keys()"
   ]
  },
  {
   "cell_type": "markdown",
   "metadata": {},
   "source": [
    "## create the word transcription"
   ]
  },
  {
   "cell_type": "code",
   "execution_count": null,
   "metadata": {},
   "outputs": [],
   "source": [
    "phoneTrans =  words2phones(example['wordTrans'], prondict)\n",
    "print(phoneTrans == example['phoneTrans'])\n",
    "print(phoneTrans)\n",
    "\n",
    "print(\"\\n HMM concat\")\n",
    "utteranceHMM = concatHMMs(phoneHMMs, phoneTrans)\n",
    "print(utteranceHMM.keys())\n",
    "for key in utteranceHMM.keys():\n",
    "    print(key,\" is allclose?:\", np.allclose(utteranceHMM[key], example['utteranceHMM'][key]))\n",
    "\n",
    "print(\"\\nstateTrans\")\n",
    "stateTrans = [phone + '_' + str(stateid) for phone in phoneTrans for stateid in range(nstates[phone])]\n",
    "print(stateTrans == example['stateTrans'])\n",
    "print(stateTrans)\n",
    "\n",
    "print(\"\\nstateList\")\n",
    "obsLogLik = log_multivariate_normal_density_diag(example['lmfcc'], utteranceHMM['means'], utteranceHMM['covars'])\n",
    "print(\"obsloglik allclose? \", np.allclose(obsLogLik, example['obsloglik']))\n",
    "\n",
    "\n",
    "alphas = forward(obsLogLik, np.log(utteranceHMM['startprob']), np.log(utteranceHMM['transmat']))\n",
    "prob, path = viterbi(obsLogLik, np.log(utteranceHMM['startprob']), np.log(utteranceHMM['transmat']))\n",
    "plt.pcolormesh(alphas.T)\n",
    "plt.plot(np.arange(0.5, path.shape[0], 1), path+0.5, 'r')\n",
    "plt.plot(np.arange(0.5, example['viterbiPath'].shape[0], 1), example['viterbiPath']+0.5, 'c')\n",
    "plt.show()\n",
    "\n",
    "print(\"viterbi loglik equal?\", prob == example['viterbiLoglik'])\n",
    "newPathText = [stateTrans[state] for state in path]\n",
    "newPath = [stateList.index(stateTrans[state]) for state in path]\n",
    "newPathtt = [stateTrans[state] for state in path]\n",
    "#print(newPathtt)\n",
    "#print(newPath)\n",
    "#print(newPath)\n",
    "#print(\"exapmole paht:\", example['viterbiStateTrans'])\n",
    "print(\"path equal to example?\", newPathtt == example['viterbiStateTrans'])\n",
    "\n",
    "print(\"generate path file\")\n",
    "frames2trans(newPathText, outfilename='z43a.lab')"
   ]
  },
  {
   "cell_type": "code",
   "execution_count": null,
   "metadata": {},
   "outputs": [],
   "source": [
    "pathTranscripedDict = {}\n",
    "for file in files:\n",
    "    phonemes = list(path2info(filename)[2])\n",
    "    paddedPhoneme = words2phones(phonemes, prondict)\n",
    "    pathTranscripedDict[path] = paddedPhoneme"
   ]
  },
  {
   "cell_type": "markdown",
   "metadata": {},
   "source": [
    "## create HMMs"
   ]
  },
  {
   "cell_type": "code",
   "execution_count": null,
   "metadata": {},
   "outputs": [],
   "source": [
    "HMMs = {}\n",
    "for path in pathTranscripedDict.keys():\n",
    "    concatHMM = concatHMMs(phoneHMMs, pathTranscripedDict[path])\n",
    "    concatHMM['stateTrans'] = stateTrans = [phone + '_' + str(stateid) for phone in phoneTrans for stateid in range(nstates[phone])]\n",
    "    \n",
    "    HMMs[pathTranscripedDict[path]] = concatHMM"
   ]
  },
  {
   "cell_type": "markdown",
   "metadata": {},
   "source": [
    "# alignment"
   ]
  },
  {
   "cell_type": "code",
   "execution_count": null,
   "metadata": {},
   "outputs": [],
   "source": [
    "for hmm_name in HMMs.keys():\n",
    "    #todo figure out how to deal with files\n",
    "    datum = hmm['features']\n",
    "    obsLogLik = log_multivariate_normal_density_diag(datum, HMMs[hmm_name]['means'], HMMs[hmm_name]['means']['covars'])\n",
    "    \n",
    "    prob, path = prob, path = viterbi(obsLogLik, np.log(HMMs[hmm_name]['startprob']), np.log(HMMs[hmm_name]['transmat']))\n",
    "    \n",
    "    #transform path to states\n",
    "    newPath = [HMMs[hmm_name]['stateTrans'][state] for state in path]\n",
    "    HMMs[hmm_name] = frames2trans(newPath, outputfilename = hmm_name + \".lab\")\n",
    "    \n"
   ]
  },
  {
   "cell_type": "markdown",
   "metadata": {},
   "source": [
    "# create dataset"
   ]
  },
  {
   "cell_type": "markdown",
   "metadata": {},
   "source": [
    "## traindata"
   ]
  },
  {
   "cell_type": "code",
   "execution_count": null,
   "metadata": {},
   "outputs": [],
   "source": [
    "traindata = []\n",
    "for root, dirs, files in os.walk('tidigits/disc_4.1.1/tidigits/train'):\n",
    "    for file in files:\n",
    "        if file.endswith('.wav'):\n",
    "            filename = os.path.join(root, file)\n",
    "            samples, samplingrate = loadAudio(filename)\n",
    "            mspecArr = mspec(samples)\n",
    "            lmfcc = mfcc(samples)\n",
    "            wordTrans = list(path2info(filename)[2])\n",
    "            phoneTrans =  words2phones(wordTrans, prondict)\n",
    "            stateTrans = [phone + '_' + str(stateid) for phone in phoneTrans for stateid in range(nstates[phone])]\n",
    "            \n",
    "            \n",
    "            utteranceHMM = concatHMMs(phoneHMMs, phoneTrans)\n",
    "            obsLogLik = log_multivariate_normal_density_diag(lmfcc, utteranceHMM['means'], utteranceHMM['covars'])\n",
    "            prob, path = viterbi(obsLogLik, np.log(utteranceHMM['startprob']), np.log(utteranceHMM['transmat']))\n",
    "            \n",
    "            newPath = [stateList.index(stateTrans[state]) for state in path]\n",
    "            newPath = np.array(newPath)\n",
    "            print(\"lentraindata\", len(traindata), \" shape lmfcc\", lmfcc.shape, \" mspecshape\", mspecArr.shape)\n",
    "            traindata.append({'filename': filename, 'lmfcc': lmfcc, 'mspec': mspecArr, 'targets': newPath})\n",
    "            \n",
    "np.savez('traindata.npz', traindata=traindata)"
   ]
  },
  {
   "cell_type": "markdown",
   "metadata": {},
   "source": [
    "## testdata"
   ]
  },
  {
   "cell_type": "code",
   "execution_count": null,
   "metadata": {},
   "outputs": [],
   "source": [
    "testdata = []\n",
    "for root, dirs, files in os.walk('tidigits/disc_4.2.1/tidigits/test'):\n",
    "    for file in files:\n",
    "        if file.endswith('.wav'):\n",
    "            filename = os.path.join(root, file)\n",
    "            samples, samplingrate = loadAudio(filename)\n",
    "            mspecArr = mspec(samples)\n",
    "            lmfcc = mfcc(samples)\n",
    "            wordTrans = list(path2info(filename)[2])\n",
    "            phoneTrans =  words2phones(wordTrans, prondict)\n",
    "            stateTrans = [phone + '_' + str(stateid) for phone in phoneTrans for stateid in range(nstates[phone])]\n",
    "            \n",
    "            \n",
    "            utteranceHMM = concatHMMs(phoneHMMs, phoneTrans)\n",
    "            obsLogLik = log_multivariate_normal_density_diag(lmfcc, utteranceHMM['means'], utteranceHMM['covars'])\n",
    "            prob, path = viterbi(obsLogLik, np.log(utteranceHMM['startprob']), np.log(utteranceHMM['transmat']))\n",
    "            \n",
    "            newPath = [stateList.index(stateTrans[state]) for state in path]\n",
    "            newPath = np.array(newPath)\n",
    "            testdata.append({'filename': filename, 'lmfcc': lmfcc, 'mspec': mspecArr, 'targets': newPath})\n",
    "            \n",
    "np.savez('testdata.npz', testdata=testdata)"
   ]
  },
  {
   "cell_type": "markdown",
   "metadata": {},
   "source": [
    "# split the dataset"
   ]
  },
  {
   "cell_type": "code",
   "execution_count": null,
   "metadata": {},
   "outputs": [],
   "source": [
    "# load the dataset\n",
    "traindata = np.load(\"traindata.npz\", allow_pickle=True)['traindata']\n",
    "testdata  = np.load(\"testdata.npz\", allow_pickle=True)['testdata']"
   ]
  },
  {
   "cell_type": "code",
   "execution_count": null,
   "metadata": {},
   "outputs": [],
   "source": [
    "trainset = []\n",
    "valiset  = []\n",
    "ratio = 0.1\n",
    "speakerIds = [datum[\"filename\"].split(\"/\")[-2] for datum in traindata]\n",
    "\n",
    "random.shuffle(speakerIds)\n",
    "\n",
    "#remove duplicates\n",
    "speakerIds = list(dict.fromkeys(speakerIds))\n",
    "validationIds = speakerIds[:int(len(speakerIds)*ratio)]\n",
    "\n",
    "print(len(validationIds), \" - \", len(speakerIds))\n",
    "woman_train = 0\n",
    "men_train = 0\n",
    "\n",
    "women_vali = 0\n",
    "men_vali = 0\n",
    "for datum in traindata:\n",
    "    #print(datum['filename'])\n",
    "    splitlist = datum['filename'].split(\"/\")\n",
    "    #print(splitlist)\n",
    "    if splitlist[-2] in validationIds:\n",
    "        valiset.append(datum)\n",
    "        if splitlist[-3] == \"man\":\n",
    "            men_vali +=1\n",
    "        else:\n",
    "            women_vali +=1\n",
    "    else:\n",
    "        trainset.append(datum)\n",
    "        if splitlist[-3] == \"man\":\n",
    "            men_train +=1\n",
    "        else:\n",
    "            woman_train +=1\n",
    "\n",
    "\n",
    "print(\"len(trainset): \",len(trainset), \"men woman ration train\", men_train,\":\",woman_train)\n",
    "print(\"len(valiset):  \",len(valiset), \"men woman ration vali\", men_vali,\":\",women_vali)\n",
    "np.savez('trainset.npz', trainset=trainset)\n",
    "np.savez('valiset.npz', valiset=valiset)\n"
   ]
  },
  {
   "cell_type": "code",
   "execution_count": 10,
   "metadata": {},
   "outputs": [],
   "source": [
    "# loat the sets\n",
    "trainset = np.load(\"trainset.npz\", allow_pickle = True)['trainset']\n",
    "valiset  = np.load(\"valiset.npz\", allow_pickle = True)['valiset']\n",
    "testdata  = np.load(\"testdata.npz\", allow_pickle = True)['testdata']"
   ]
  },
  {
   "cell_type": "code",
   "execution_count": 48,
   "metadata": {},
   "outputs": [],
   "source": [
    "trainset = np.load(\"trainset.npz\", allow_pickle = True)['trainset']"
   ]
  },
  {
   "cell_type": "markdown",
   "metadata": {},
   "source": [
    "# Acoustic Context"
   ]
  },
  {
   "cell_type": "code",
   "execution_count": 11,
   "metadata": {
    "scrolled": false
   },
   "outputs": [
    {
     "name": "stdout",
     "output_type": "stream",
     "text": [
      "nextset\n",
      "nextset\n",
      "nextset\n",
      "time was,  37.86215090751648\n"
     ]
    }
   ],
   "source": [
    "a = time.time()\n",
    "newFeatureSets = []\n",
    "for dset in [trainset, valiset, testdata]:\n",
    "    newFeatureSet = []\n",
    "    \n",
    "    for j in range(len(dset)):\n",
    "        length = dset[j]['lmfcc'].shape[0]\n",
    "        allFeatures = np.zeros((0,91))\n",
    "        for i in range(len(dset[j]['lmfcc'])):\n",
    "            currentfeatures = []\n",
    "            if i>=3 and i < length - 3:\n",
    "                currentfeatures = dset[j]['lmfcc'][i-3:i+4]\n",
    "                currentfeatures = currentfeatures.flatten()\n",
    "            elif i<=3:\n",
    "                first = dset[j]['lmfcc'][:4-i]\n",
    "                first = np.flip(first)\n",
    "\n",
    "                currentfeatures = np.append(first, dset[j]['lmfcc'][1:i+4])\n",
    "            else:\n",
    "                second = dset[j]['lmfcc'][-(3-(length-i-1))-1:-1]\n",
    "                second = np.flip(second)\n",
    "\n",
    "                currentfeatures = np.append(dset[j]['lmfcc'][(i-3):], second)\n",
    "\n",
    "            #print(currentfeatures.shape)\n",
    "            allFeatures = np.vstack((allFeatures, currentfeatures))\n",
    "        \n",
    "        #print(dset[j]['lmfcc'].shape,\" - \", allFeatures.shape)\n",
    "        dset[j]['lmfcc'] = allFeatures\n",
    "    \n",
    "    print(\"nextset\")\n",
    "\n",
    "\n",
    "\n",
    "newTrainSet, newValiSet, newTestSet = [trainset, valiset, testdata]\n",
    "print(\"time was, \", time.time() - a)\n",
    "#newTrainSet = np.array(newTrainSet)\n",
    "#print(newTrainSet[0]['lmfcc'][0].shape)\n",
    "#newValiSet = np.array(newValiSet)\n",
    "#newTestSet = np.array(newTestSet)"
   ]
  },
  {
   "cell_type": "code",
   "execution_count": 5,
   "metadata": {},
   "outputs": [
    {
     "ename": "NameError",
     "evalue": "name 'newTrainSet' is not defined",
     "output_type": "error",
     "traceback": [
      "\u001b[0;31m---------------------------------------------------------------------------\u001b[0m",
      "\u001b[0;31mNameError\u001b[0m                                 Traceback (most recent call last)",
      "\u001b[0;32m<ipython-input-5-7f2aeb69137e>\u001b[0m in \u001b[0;36m<module>\u001b[0;34m\u001b[0m\n\u001b[0;32m----> 1\u001b[0;31m \u001b[0mprint\u001b[0m\u001b[0;34m(\u001b[0m\u001b[0mnewTrainSet\u001b[0m\u001b[0;34m[\u001b[0m\u001b[0;36m0\u001b[0m\u001b[0;34m]\u001b[0m\u001b[0;34m[\u001b[0m\u001b[0;34m'lmfcc'\u001b[0m\u001b[0;34m]\u001b[0m\u001b[0;34m[\u001b[0m\u001b[0;36m0\u001b[0m\u001b[0;34m]\u001b[0m\u001b[0;34m)\u001b[0m\u001b[0;34m\u001b[0m\u001b[0;34m\u001b[0m\u001b[0m\n\u001b[0m\u001b[1;32m      2\u001b[0m \u001b[0mprint\u001b[0m\u001b[0;34m(\u001b[0m\u001b[0mnewValiSet\u001b[0m\u001b[0;34m[\u001b[0m\u001b[0;36m0\u001b[0m\u001b[0;34m]\u001b[0m\u001b[0;34m[\u001b[0m\u001b[0;34m'lmfcc'\u001b[0m\u001b[0;34m]\u001b[0m\u001b[0;34m)\u001b[0m\u001b[0;34m\u001b[0m\u001b[0;34m\u001b[0m\u001b[0m\n\u001b[1;32m      3\u001b[0m \u001b[0mprint\u001b[0m\u001b[0;34m(\u001b[0m\u001b[0mnewTestSet\u001b[0m\u001b[0;34m[\u001b[0m\u001b[0;36m0\u001b[0m\u001b[0;34m]\u001b[0m\u001b[0;34m[\u001b[0m\u001b[0;34m'lmfcc'\u001b[0m\u001b[0;34m]\u001b[0m\u001b[0;34m)\u001b[0m\u001b[0;34m\u001b[0m\u001b[0;34m\u001b[0m\u001b[0m\n",
      "\u001b[0;31mNameError\u001b[0m: name 'newTrainSet' is not defined"
     ]
    }
   ],
   "source": [
    "print(newTrainSet[0]['lmfcc'][0])\n",
    "print(newValiSet[0]['lmfcc'])\n",
    "print(newTestSet[0]['lmfcc'])"
   ]
  },
  {
   "cell_type": "markdown",
   "metadata": {},
   "source": [
    "## mspec acousic context"
   ]
  },
  {
   "cell_type": "code",
   "execution_count": 7,
   "metadata": {},
   "outputs": [
    {
     "ename": "KeyboardInterrupt",
     "evalue": "",
     "output_type": "error",
     "traceback": [
      "\u001b[0;31m---------------------------------------------------------------------------\u001b[0m",
      "\u001b[0;31mKeyboardInterrupt\u001b[0m                         Traceback (most recent call last)",
      "\u001b[0;32m<ipython-input-7-3c58c0303f69>\u001b[0m in \u001b[0;36m<module>\u001b[0;34m\u001b[0m\n\u001b[1;32m     10\u001b[0m             \u001b[0;32mif\u001b[0m \u001b[0mi\u001b[0m\u001b[0;34m>=\u001b[0m\u001b[0;36m3\u001b[0m \u001b[0;32mand\u001b[0m \u001b[0mi\u001b[0m \u001b[0;34m<\u001b[0m \u001b[0mlength\u001b[0m \u001b[0;34m-\u001b[0m \u001b[0;36m3\u001b[0m\u001b[0;34m:\u001b[0m\u001b[0;34m\u001b[0m\u001b[0;34m\u001b[0m\u001b[0m\n\u001b[1;32m     11\u001b[0m                 \u001b[0mcurrentfeatures\u001b[0m \u001b[0;34m=\u001b[0m \u001b[0mdset\u001b[0m\u001b[0;34m[\u001b[0m\u001b[0mj\u001b[0m\u001b[0;34m]\u001b[0m\u001b[0;34m[\u001b[0m\u001b[0;34m'mspec'\u001b[0m\u001b[0;34m]\u001b[0m\u001b[0;34m[\u001b[0m\u001b[0mi\u001b[0m\u001b[0;34m-\u001b[0m\u001b[0;36m3\u001b[0m\u001b[0;34m:\u001b[0m\u001b[0mi\u001b[0m\u001b[0;34m+\u001b[0m\u001b[0;36m4\u001b[0m\u001b[0;34m]\u001b[0m\u001b[0;34m\u001b[0m\u001b[0;34m\u001b[0m\u001b[0m\n\u001b[0;32m---> 12\u001b[0;31m                 \u001b[0mcurrentfeatures\u001b[0m \u001b[0;34m=\u001b[0m \u001b[0mcurrentfeatures\u001b[0m\u001b[0;34m.\u001b[0m\u001b[0mflatten\u001b[0m\u001b[0;34m(\u001b[0m\u001b[0;34m)\u001b[0m\u001b[0;34m\u001b[0m\u001b[0;34m\u001b[0m\u001b[0m\n\u001b[0m\u001b[1;32m     13\u001b[0m             \u001b[0;32melif\u001b[0m \u001b[0mi\u001b[0m\u001b[0;34m<=\u001b[0m\u001b[0;36m3\u001b[0m\u001b[0;34m:\u001b[0m\u001b[0;34m\u001b[0m\u001b[0;34m\u001b[0m\u001b[0m\n\u001b[1;32m     14\u001b[0m                 \u001b[0mfirst\u001b[0m \u001b[0;34m=\u001b[0m \u001b[0mdset\u001b[0m\u001b[0;34m[\u001b[0m\u001b[0mj\u001b[0m\u001b[0;34m]\u001b[0m\u001b[0;34m[\u001b[0m\u001b[0;34m'mspec'\u001b[0m\u001b[0;34m]\u001b[0m\u001b[0;34m[\u001b[0m\u001b[0;34m:\u001b[0m\u001b[0;36m4\u001b[0m\u001b[0;34m-\u001b[0m\u001b[0mi\u001b[0m\u001b[0;34m]\u001b[0m\u001b[0;34m\u001b[0m\u001b[0;34m\u001b[0m\u001b[0m\n",
      "\u001b[0;31mKeyboardInterrupt\u001b[0m: "
     ]
    }
   ],
   "source": [
    "newFeatureSets = []\n",
    "for dset in [trainset, valiset, testdata]:\n",
    "    newFeatureSet = []\n",
    "    \n",
    "    for j in range(len(dset)):\n",
    "        length = dset[j]['mspec'].shape[0]\n",
    "        allFeatures = np.zeros((0,280))\n",
    "        for i in range(len(dset[j]['mspec'])):\n",
    "            currentfeatures = []\n",
    "            if i>=3 and i < length - 3:\n",
    "                currentfeatures = dset[j]['mspec'][i-3:i+4]\n",
    "                currentfeatures = currentfeatures.flatten()\n",
    "            elif i<=3:\n",
    "                first = dset[j]['mspec'][:4-i]\n",
    "                first = np.flip(first)\n",
    "\n",
    "                currentfeatures = np.append(first, dset[j]['mspec'][1:i+4])\n",
    "            else:\n",
    "                second = dset[j]['mspec'][-(3-(length-i-1))-1:-1]\n",
    "                second = np.flip(second)\n",
    "\n",
    "                currentfeatures = np.append(dset[j]['mspec'][(i-3):], second)\n",
    "\n",
    "            #print(currentfeatures.shape)\n",
    "            allFeatures = np.vstack((allFeatures, currentfeatures))\n",
    "        \n",
    "        #print(dset[j]['lmfcc'].shape,\" - \", allFeatures.shape)\n",
    "        dset[j]['mspec'] = allFeatures\n",
    "    \n",
    "    print(\"nextset\")\n",
    "\n",
    "\n",
    "newTrainSet = trainset\n",
    "#newTrainSet, newValiSet, newTestSet = [trainset, valiset, testdata]"
   ]
  },
  {
   "cell_type": "code",
   "execution_count": null,
   "metadata": {},
   "outputs": [],
   "source": [
    "print(newTrainSet[0]['mspec'][0].shape)\n",
    "print(newValiSet[0]['mspec'][0])\n",
    "print(newTestSet[0]['mspec'][0])"
   ]
  },
  {
   "cell_type": "markdown",
   "metadata": {},
   "source": [
    "## if skipping context run this:"
   ]
  },
  {
   "cell_type": "code",
   "execution_count": 50,
   "metadata": {},
   "outputs": [],
   "source": [
    "newTrainSet, newValiSet, newTestSet = (trainset, valiset, testdata)"
   ]
  },
  {
   "cell_type": "markdown",
   "metadata": {},
   "source": [
    "# standardization"
   ]
  },
  {
   "cell_type": "code",
   "execution_count": 44,
   "metadata": {},
   "outputs": [],
   "source": [
    "standardization = \"speaker\" # utterance # speaker # whole\n",
    "output_dim = len(stateList)\n",
    "\n",
    "featuresToStandarize = \"lmfcc\" # mspec"
   ]
  },
  {
   "cell_type": "code",
   "execution_count": 51,
   "metadata": {},
   "outputs": [
    {
     "name": "stdout",
     "output_type": "stream",
     "text": [
      "done final set size:  (1359611, 13)  -  (1359611,)\n",
      "done final set size:  (147446, 13)  -  (147446,)\n",
      "done final set size:  (1526682, 13)  -  (1526682,)\n"
     ]
    }
   ],
   "source": [
    "#print(newTrainSet[-1]['lmfcc'][-4:,0])\n",
    "\n",
    "transformedNormalized = []\n",
    "if standardization == \"whole\":\n",
    "    for dset in [newTrainSet]: #[newTrainSet, newValiSet, newTestSet]:\n",
    "        print(dset.shape)\n",
    "        #print(dset[-1]['lmfcc'][-4:])        \n",
    "        dFrame = pd.DataFrame(dset.tolist())\n",
    "        #print(dFrame)\n",
    "        if featuresToStandarize == \"lmfcc\":\n",
    "            feat = dFrame['lmfcc'].values\n",
    "        else:\n",
    "            feat = dFrame['mspec'].values\n",
    "        targets = dFrame['targets'].values\n",
    "        \n",
    "        #transform into one array\n",
    "        feat    = np.concatenate( feat,    axis=0 )\n",
    "        targets = np.concatenate( targets, axis=0 )\n",
    "        #print(feat[-4:])\n",
    "        #print(feat.shape)\n",
    "        #print(targets.shape)\n",
    "        if len(transformedNormalized) == 0:\n",
    "            scaler = StandardScaler()\n",
    "            scaler.fit(feat)\n",
    "        featTransformed = scaler.transform(feat)\n",
    "        print(\"final set size: \", featTransformed.shape, \" - \", targets.shape)\n",
    "        del dFrame\n",
    "        del feat \n",
    "        transformedNormalized.append([featTransformed.astype('float32'), \n",
    "                                      np_utils.to_categorical(targets, output_dim)[np.newaxis]])\n",
    "        \n",
    "    \n",
    "    print(\"done - whole\")\n",
    "        \n",
    "elif standardization == \"speaker\":\n",
    "    for dset in [newTrainSet, newValiSet, newTestSet]:\n",
    "        speakers = {}\n",
    "        for sample in dset:\n",
    "            speakerName = sample['filename'].split(\"/\")[-2]\n",
    "            if speakerName in speakers:\n",
    "                speakers[speakerName].append(sample)\n",
    "            else:\n",
    "                speakers[speakerName] = [sample]\n",
    "        \n",
    "        features = np.array(())\n",
    "        lables = None\n",
    "        for speaker in speakers.keys():\n",
    "            dFrame = pd.DataFrame(speakers[speaker])\n",
    "            \n",
    "            if featuresToStandarize == \"lmfcc\":\n",
    "                feat = dFrame['lmfcc'].values\n",
    "            else:\n",
    "                feat = dFrame['mspec'].values\n",
    "            targets = dFrame['targets'].values\n",
    "            \n",
    "            # transform into one array\n",
    "            feat    = np.concatenate( feat,    axis=0 )\n",
    "            targets = np.concatenate( targets, axis=0 )\n",
    "            \n",
    "            #print(targets.shape)\n",
    "            scaler = StandardScaler()\n",
    "            scaler.fit(feat)\n",
    "            featTransformed = scaler.transform(feat)\n",
    "            if features.shape == (0,):\n",
    "                features = featTransformed\n",
    "                lables = targets\n",
    "            else:\n",
    "                #print(lables.shape, \" - \", targets.shape)\n",
    "                features = np.vstack((features, featTransformed))\n",
    "                lables = np.hstack((lables, targets))\n",
    "        print(\"done final set size: \", features.shape, \" - \", lables.shape)\n",
    "        transformedNormalized.append((features.astype('float32'), \n",
    "                                      np_utils.to_categorical(lables, output_dim)))\n",
    "\n",
    "elif standardization == \"utterance\":\n",
    "    for dset in [newTrainSet, newValiSet, newTestSet]:\n",
    "        features, labels = np.array(()), np.array(())\n",
    "        for sample in dset:\n",
    "            scaler = StandardScaler()\n",
    "            if featuresToStandarize == \"lmfcc\":\n",
    "                featSample = sample['lmfcc']\n",
    "            else:\n",
    "                featSample = sample['mspec']\n",
    "            scaler.fit(featSample)\n",
    "            featTransformed = scaler.transform(featSample)\n",
    "            if features.shape == (0,):\n",
    "                features = featTransformed\n",
    "                labels = sample['targets']\n",
    "            else:\n",
    "                features = np.vstack((features, featTransformed))\n",
    "                labels = np.hstack((labels, sample['targets']))\n",
    "        print(\"done final set size: \", features.shape, \" - \", labels.shape)\n",
    "        transformedNormalized.append((features.astype('float32'),\n",
    "                                      np_utils.to_categorical(labels, output_dim)))\n",
    "  \n",
    "trainFinal, valiFinal, testFinal = transformedNormalized\n",
    "#trainFinal = transformedNormalized[0]\n",
    "del newTrainSet\n",
    "#del newValiSet\n",
    "#del newTestSet        \n",
    "#trainFinal[1] = trainFinal[1][0]\n",
    "#valiFinal[1] = valiFinal[1][0]\n",
    "#testFinal[1] = testFinal[1][0]\n",
    "#print(trainFinal[0][-4:,0])     "
   ]
  },
  {
   "cell_type": "code",
   "execution_count": 43,
   "metadata": {},
   "outputs": [
    {
     "data": {
      "text/plain": [
       "array([-0.949,  0.226, -0.634,  0.251, -0.536, -0.526, -0.023,  0.486,\n",
       "        0.855, -0.401,  0.398, -0.226, -0.584], dtype=float32)"
      ]
     },
     "execution_count": 43,
     "metadata": {},
     "output_type": "execute_result"
    }
   ],
   "source": [
    "trainFinal[0][0]"
   ]
  },
  {
   "cell_type": "code",
   "execution_count": 52,
   "metadata": {},
   "outputs": [
    {
     "data": {
      "text/plain": [
       "array([-1.221,  0.05 , -0.705,  0.042, -0.435, -0.66 , -0.003,  0.479,\n",
       "        0.815, -0.23 ,  0.421, -0.067, -0.652], dtype=float32)"
      ]
     },
     "execution_count": 52,
     "metadata": {},
     "output_type": "execute_result"
    }
   ],
   "source": [
    "trainFinal[0][0]"
   ]
  },
  {
   "cell_type": "code",
   "execution_count": 30,
   "metadata": {},
   "outputs": [
    {
     "name": "stdout",
     "output_type": "stream",
     "text": [
      "(61,)\n"
     ]
    }
   ],
   "source": [
    "print(trainFinal[1][0].shape)"
   ]
  },
  {
   "cell_type": "code",
   "execution_count": null,
   "metadata": {},
   "outputs": [],
   "source": [
    "np.savez(\"standardized.npz\", trainFinal=trainFinal , valiFinal = valiFinal, testFinal = testFinal)"
   ]
  },
  {
   "cell_type": "code",
   "execution_count": null,
   "metadata": {},
   "outputs": [],
   "source": [
    "trainFinal = np.load(\"standardized.npz\", allow_pickle = True)['trainFinal']\n",
    "valiFinal = np.load(\"standardized.npz\", allow_pickle = True)['valiFinal']\n",
    "testFinal = np.load(\"standardized.npz\", allow_pickle = True)['testFinal']\n",
    "\n",
    "trainFinal[1] = trainFinal[1][0]\n",
    "valiFinal[1] = valiFinal[1][0]\n",
    "testFinal[1] = testFinal[1][0]"
   ]
  },
  {
   "cell_type": "code",
   "execution_count": null,
   "metadata": {},
   "outputs": [],
   "source": [
    "print(trainFinal[1][30:40])\n",
    "print(stateList[np.argmax(trainFinal[1], axis=1)][0:400])\n"
   ]
  },
  {
   "cell_type": "code",
   "execution_count": null,
   "metadata": {},
   "outputs": [],
   "source": [
    "print(trainFinal[0].shape)\n",
    "print(trainFinal[1].shape)"
   ]
  },
  {
   "cell_type": "markdown",
   "metadata": {},
   "source": [
    "# load data"
   ]
  },
  {
   "cell_type": "code",
   "execution_count": null,
   "metadata": {},
   "outputs": [],
   "source": [
    "standardization = \"whole\"\n",
    "trainFinal = np.load(\"settest_LmfccNone.npz\", allow_pickle = True)['setCurrent']\n",
    "trainFinal[1] = trainFinal[1][0]"
   ]
  },
  {
   "cell_type": "code",
   "execution_count": null,
   "metadata": {},
   "outputs": [],
   "source": [
    "standardization = \"whole\"\n",
    "trainFinal = np.load(\"settest_MspecNone.npz\", allow_pickle = True)['setCurrent']\n",
    "trainFinal[1] = trainFinal[1][0]"
   ]
  },
  {
   "cell_type": "code",
   "execution_count": null,
   "metadata": {},
   "outputs": [],
   "source": [
    "standardization = \"whole\"\n",
    "trainFinal = np.load(\"settest_Lmfcc.npz\", allow_pickle = True)['setCurrent']\n",
    "trainFinal[1] = trainFinal[1][0]"
   ]
  },
  {
   "cell_type": "code",
   "execution_count": 5,
   "metadata": {},
   "outputs": [],
   "source": [
    "standardization = \"whole\"\n",
    "trainFinal = np.load(\"settest_Mspec.npz\", allow_pickle = True)['setCurrent']\n",
    "trainFinal[1] = trainFinal[1][0]"
   ]
  },
  {
   "cell_type": "markdown",
   "metadata": {},
   "source": [
    "# Phoneme Recognition with Deep Neural Networks"
   ]
  },
  {
   "cell_type": "code",
   "execution_count": null,
   "metadata": {},
   "outputs": [],
   "source": []
  },
  {
   "cell_type": "code",
   "execution_count": 6,
   "metadata": {},
   "outputs": [],
   "source": [
    "optimizer = \"sdg_0.1_0.1\" # \"sdg_0.1_0.1\"\n",
    "if optimizer == \"adam_0.1\":\n",
    "    optimizer1 = Adam(learning_rate=0.1, beta_1=0.9, beta_2=0.999, amsgrad=False)\n",
    "elif optimizer == \"adam_0.01\":\n",
    "    optimizer2 = Adam(learning_rate=0.01, beta_1=0.9, beta_2=0.999, amsgrad=False)\n",
    "elif optimizer == \"sdg_0.01_0\":\n",
    "    optimizer3 = SGD(learning_rate=0.01, momentum=0.1, nesterov=False)\n",
    "elif optimizer == \"sdg_0.1_0.1\":\n",
    "    decay_rate = 0.1/50\n",
    "    optimizer4 = SGD(learning_rate=0.1, momentum=0.1, decay=decay_rate, nesterov=False)"
   ]
  },
  {
   "cell_type": "markdown",
   "metadata": {},
   "source": [
    "## Model 1"
   ]
  },
  {
   "cell_type": "code",
   "execution_count": 56,
   "metadata": {},
   "outputs": [],
   "source": [
    "model1 = Sequential()\n",
    "\n",
    "\n",
    "model1.add(Dense(units=256, activation='relu', input_dim=13))\n",
    "model1.add(Dense(units=256, activation='relu'))\n",
    "model1.add(Dense(units=256, activation='relu'))\n",
    "model1.add(Dense(units=256, activation='relu'))\n",
    "model1.add(Dense(len(stateList), activation='softmax'))\n",
    "\n",
    "filepath = \"model1\"+standardization+optimizer+\".h5\"\n",
    "checkpoint = ModelCheckpoint(filepath, monitor='loss', verbose=1, save_best_only=True, mode='min')\n",
    "callbacks_list = [checkpoint]\n",
    "\n",
    "model1.compile(loss='categorical_crossentropy', optimizer='nadam', metrics=['accuracy'])"
   ]
  },
  {
   "cell_type": "code",
   "execution_count": 62,
   "metadata": {
    "scrolled": true
   },
   "outputs": [
    {
     "name": "stdout",
     "output_type": "stream",
     "text": [
      "Epoch 1/25\n",
      "1359611/1359611 [==============================] - 17s 12us/step - loss: 1.6389 - accuracy: 0.5859\n",
      "\n",
      "Epoch 00001: loss improved from 1.69237 to 1.63893, saving model to model3speakersdg_0.1_0.1.h5\n",
      "Epoch 2/25\n",
      "1359611/1359611 [==============================] - 18s 13us/step - loss: 1.6260 - accuracy: 0.5874\n",
      "\n",
      "Epoch 00002: loss improved from 1.63893 to 1.62596, saving model to model3speakersdg_0.1_0.1.h5\n",
      "Epoch 3/25\n",
      "1359611/1359611 [==============================] - 19s 14us/step - loss: 1.6161 - accuracy: 0.5883\n",
      "\n",
      "Epoch 00003: loss improved from 1.62596 to 1.61607, saving model to model3speakersdg_0.1_0.1.h5\n",
      "Epoch 4/25\n",
      "1359611/1359611 [==============================] - 19s 14us/step - loss: 1.6077 - accuracy: 0.5891\n",
      "\n",
      "Epoch 00004: loss improved from 1.61607 to 1.60770, saving model to model3speakersdg_0.1_0.1.h5\n",
      "Epoch 5/25\n",
      "1359611/1359611 [==============================] - 19s 14us/step - loss: 1.5994 - accuracy: 0.5900\n",
      "\n",
      "Epoch 00005: loss improved from 1.60770 to 1.59940, saving model to model3speakersdg_0.1_0.1.h5\n",
      "Epoch 6/25\n",
      "1359611/1359611 [==============================] - 19s 14us/step - loss: 1.5915 - accuracy: 0.5909\n",
      "\n",
      "Epoch 00006: loss improved from 1.59940 to 1.59147, saving model to model3speakersdg_0.1_0.1.h5\n",
      "Epoch 7/25\n",
      "1359611/1359611 [==============================] - 19s 14us/step - loss: 1.5840 - accuracy: 0.5918\n",
      "\n",
      "Epoch 00007: loss improved from 1.59147 to 1.58405, saving model to model3speakersdg_0.1_0.1.h5\n",
      "Epoch 8/25\n",
      "1359611/1359611 [==============================] - 20s 14us/step - loss: 1.5769 - accuracy: 0.5926\n",
      "\n",
      "Epoch 00008: loss improved from 1.58405 to 1.57691, saving model to model3speakersdg_0.1_0.1.h5\n",
      "Epoch 9/25\n",
      "1359611/1359611 [==============================] - 20s 14us/step - loss: 1.5698 - accuracy: 0.5933\n",
      "\n",
      "Epoch 00009: loss improved from 1.57691 to 1.56983, saving model to model3speakersdg_0.1_0.1.h5\n",
      "Epoch 10/25\n",
      "1359611/1359611 [==============================] - 20s 14us/step - loss: 1.5632 - accuracy: 0.5941\n",
      "\n",
      "Epoch 00010: loss improved from 1.56983 to 1.56315, saving model to model3speakersdg_0.1_0.1.h5\n",
      "Epoch 11/25\n",
      "1359611/1359611 [==============================] - 20s 14us/step - loss: 1.5568 - accuracy: 0.5948\n",
      "\n",
      "Epoch 00011: loss improved from 1.56315 to 1.55683, saving model to model3speakersdg_0.1_0.1.h5\n",
      "Epoch 12/25\n",
      "1359611/1359611 [==============================] - 20s 14us/step - loss: 1.5514 - accuracy: 0.5952\n",
      "\n",
      "Epoch 00012: loss improved from 1.55683 to 1.55138, saving model to model3speakersdg_0.1_0.1.h5\n",
      "Epoch 13/25\n",
      "1359611/1359611 [==============================] - 20s 14us/step - loss: 1.5456 - accuracy: 0.5959\n",
      "\n",
      "Epoch 00013: loss improved from 1.55138 to 1.54564, saving model to model3speakersdg_0.1_0.1.h5\n",
      "Epoch 14/25\n",
      "1359611/1359611 [==============================] - 20s 15us/step - loss: 1.5406 - accuracy: 0.5967\n",
      "\n",
      "Epoch 00014: loss improved from 1.54564 to 1.54058, saving model to model3speakersdg_0.1_0.1.h5\n",
      "Epoch 15/25\n",
      "1359611/1359611 [==============================] - 20s 15us/step - loss: 1.5357 - accuracy: 0.5974\n",
      "\n",
      "Epoch 00015: loss improved from 1.54058 to 1.53575, saving model to model3speakersdg_0.1_0.1.h5\n",
      "Epoch 16/25\n",
      "1359611/1359611 [==============================] - 20s 15us/step - loss: 1.5313 - accuracy: 0.5975\n",
      "\n",
      "Epoch 00016: loss improved from 1.53575 to 1.53131, saving model to model3speakersdg_0.1_0.1.h5\n",
      "Epoch 17/25\n",
      "1359611/1359611 [==============================] - 20s 15us/step - loss: 1.5269 - accuracy: 0.5980\n",
      "\n",
      "Epoch 00017: loss improved from 1.53131 to 1.52690, saving model to model3speakersdg_0.1_0.1.h5\n",
      "Epoch 18/25\n",
      "1359611/1359611 [==============================] - 20s 15us/step - loss: 1.5227 - accuracy: 0.5985\n",
      "\n",
      "Epoch 00018: loss improved from 1.52690 to 1.52271, saving model to model3speakersdg_0.1_0.1.h5\n",
      "Epoch 19/25\n",
      "1359611/1359611 [==============================] - 20s 15us/step - loss: 1.5192 - accuracy: 0.5990\n",
      "\n",
      "Epoch 00019: loss improved from 1.52271 to 1.51917, saving model to model3speakersdg_0.1_0.1.h5\n",
      "Epoch 20/25\n",
      "1359611/1359611 [==============================] - 20s 15us/step - loss: 1.5157 - accuracy: 0.5994\n",
      "\n",
      "Epoch 00020: loss improved from 1.51917 to 1.51572, saving model to model3speakersdg_0.1_0.1.h5\n",
      "Epoch 21/25\n",
      "1359611/1359611 [==============================] - 20s 15us/step - loss: 1.5121 - accuracy: 0.5998\n",
      "\n",
      "Epoch 00021: loss improved from 1.51572 to 1.51208, saving model to model3speakersdg_0.1_0.1.h5\n",
      "Epoch 22/25\n",
      "1359611/1359611 [==============================] - 20s 15us/step - loss: 1.5092 - accuracy: 0.6003\n",
      "\n",
      "Epoch 00022: loss improved from 1.51208 to 1.50924, saving model to model3speakersdg_0.1_0.1.h5\n",
      "Epoch 23/25\n",
      "1359611/1359611 [==============================] - 20s 15us/step - loss: 1.5062 - accuracy: 0.6003\n",
      "\n",
      "Epoch 00023: loss improved from 1.50924 to 1.50621, saving model to model3speakersdg_0.1_0.1.h5\n",
      "Epoch 24/25\n",
      "1359611/1359611 [==============================] - 20s 15us/step - loss: 1.5036 - accuracy: 0.6009\n",
      "\n",
      "Epoch 00024: loss improved from 1.50621 to 1.50363, saving model to model3speakersdg_0.1_0.1.h5\n",
      "Epoch 25/25\n",
      "1359611/1359611 [==============================] - 20s 15us/step - loss: 1.5010 - accuracy: 0.6012\n",
      "\n",
      "Epoch 00025: loss improved from 1.50363 to 1.50095, saving model to model3speakersdg_0.1_0.1.h5\n"
     ]
    }
   ],
   "source": [
    "history = model1.fit(trainFinal[0], trainFinal[1], epochs=25, batch_size=1000,  callbacks = callbacks_list)\n",
    "model1.save(\"model1\"+standardization+optimizer+\".h5\")"
   ]
  },
  {
   "cell_type": "code",
   "execution_count": 64,
   "metadata": {},
   "outputs": [
    {
     "data": {
      "image/png": "[encoded data removed]",
      "text/plain": [
       "<Figure size 1080x288 with 1 Axes>"
      ]
     },
     "metadata": {
      "needs_background": "light"
     },
     "output_type": "display_data"
    }
   ],
   "source": [
    "plt.plot(history.history['accuracy'])\n",
    "plt.plot(history.history['loss'])\n",
    "plt.title('model accuracy')\n",
    "plt.ylabel('accuracy')\n",
    "plt.xlabel('epoch')\n",
    "plt.legend(['train', 'test'], loc='upper left')\n",
    "plt.show()"
   ]
  },
  {
   "cell_type": "code",
   "execution_count": 59,
   "metadata": {},
   "outputs": [],
   "source": [
    "model1 = load_model(\"model3\"+standardization+optimizer+\".h5\")"
   ]
  },
  {
   "cell_type": "markdown",
   "metadata": {},
   "source": [
    "## Model 2"
   ]
  },
  {
   "cell_type": "code",
   "execution_count": null,
   "metadata": {},
   "outputs": [],
   "source": [
    "model2 = Sequential()\n",
    "\n",
    "\n",
    "model2.add(Dense(units=256, activation='relu', input_dim=40))\n",
    "model2.add(Dense(units=256, activation='relu'))\n",
    "model2.add(Dense(units=256, activation='relu'))\n",
    "model2.add(Dense(units=256, activation='relu'))\n",
    "model2.add(Dense(len(stateList), activation='softmax'))\n",
    "\n",
    "model2.compile(loss='categorical_crossentropy', optimizer='nadam', metrics=['accuracy'])"
   ]
  },
  {
   "cell_type": "code",
   "execution_count": null,
   "metadata": {},
   "outputs": [],
   "source": [
    "history = model2.fit(trainFinal[0], trainFinal[1], epochs=60, batch_size=100)\n",
    "model2.save(\"model2\"+standardization+optimizer+\".h5\")"
   ]
  },
  {
   "cell_type": "markdown",
   "metadata": {},
   "source": [
    "## Model 3"
   ]
  },
  {
   "cell_type": "code",
   "execution_count": null,
   "metadata": {},
   "outputs": [],
   "source": [
    "model3 = Sequential()\n",
    "\n",
    "\n",
    "model3.add(Dense(units=256, activation='relu', input_dim=91))\n",
    "model3.add(Dense(units=256, activation='relu'))\n",
    "model3.add(Dense(units=256, activation='relu'))\n",
    "model3.add(Dense(units=256, activation='relu'))\n",
    "model3.add(Dense(len(stateList), activation='softmax'))\n",
    "\n",
    "\n",
    "filepath = \"model3\"+standardization+optimizer+\".h5\"\n",
    "checkpoint = ModelCheckpoint(filepath, monitor='loss', verbose=1, save_best_only=True, mode='min')\n",
    "callbacks_list = [checkpoint]\n",
    "\n",
    "model3.compile(loss='categorical_crossentropy', optimizer='nadam', metrics=['accuracy'])"
   ]
  },
  {
   "cell_type": "code",
   "execution_count": null,
   "metadata": {},
   "outputs": [],
   "source": [
    "\n",
    "history = model3.fit(trainFinal[0], trainFinal[1], epochs=50, batch_size=1000,  callbacks = callbacks_list)\n",
    "model3.save(\"model3\"+standardization+optimizer+\".h5\")"
   ]
  },
  {
   "cell_type": "code",
   "execution_count": null,
   "metadata": {},
   "outputs": [],
   "source": [
    "model3 = load_model(\"model3\"+standardization+optimizer+\".h5\")"
   ]
  },
  {
   "cell_type": "code",
   "execution_count": null,
   "metadata": {},
   "outputs": [],
   "source": [
    "print(history.history.keys())\n",
    "plt.plot(history.history['accuracy'])\n",
    "plt.plot(history.history['loss'])\n",
    "plt.title('model accuracy')\n",
    "plt.ylabel('accuracy')\n",
    "plt.xlabel('epoch')\n",
    "plt.legend(['train', 'loss'], loc='upper left')\n",
    "plt.show()"
   ]
  },
  {
   "cell_type": "markdown",
   "metadata": {},
   "source": [
    "### train"
   ]
  },
  {
   "cell_type": "code",
   "execution_count": null,
   "metadata": {},
   "outputs": [],
   "source": []
  },
  {
   "cell_type": "markdown",
   "metadata": {},
   "source": [
    "## Model 4"
   ]
  },
  {
   "cell_type": "code",
   "execution_count": 14,
   "metadata": {},
   "outputs": [],
   "source": [
    "model4 = Sequential()\n",
    "\n",
    "\n",
    "model4.add(Dense(units=256, activation='relu', input_dim=40*7))\n",
    "model4.add(Dense(units=256, activation='relu'))\n",
    "model4.add(Dense(units=256, activation='relu'))\n",
    "model4.add(Dense(units=256, activation='relu'))\n",
    "model4.add(Dense(len(stateList), activation='softmax'))\n",
    "\n",
    "filepath = \"model3\"+standardization+optimizer+\".h5\"\n",
    "checkpoint = ModelCheckpoint(filepath, monitor='loss', verbose=1, save_best_only=True, mode='min')\n",
    "callbacks_list = [checkpoint]\n",
    "\n",
    "model4.compile(loss='categorical_crossentropy', optimizer='nadam', metrics=['accuracy'])"
   ]
  },
  {
   "cell_type": "code",
   "execution_count": 15,
   "metadata": {},
   "outputs": [
    {
     "name": "stdout",
     "output_type": "stream",
     "text": [
      "WARNING:tensorflow:From /home/dominik/.local/lib/python3.6/site-packages/keras/backend/tensorflow_backend.py:422: The name tf.global_variables is deprecated. Please use tf.compat.v1.global_variables instead.\n",
      "\n",
      "Epoch 1/50\n",
      "1526682/1526682 [==============================] - 22s 14us/step - loss: 1.5188 - accuracy: 0.6172\n",
      "\n",
      "Epoch 00001: loss improved from inf to 1.51879, saving model to model3wholesdg_0.1_0.1.h5\n",
      "Epoch 2/50\n",
      "1526682/1526682 [==============================] - 23s 15us/step - loss: 1.4117 - accuracy: 0.6355\n",
      "\n",
      "Epoch 00002: loss improved from 1.51879 to 1.41174, saving model to model3wholesdg_0.1_0.1.h5\n",
      "Epoch 3/50\n",
      "1526682/1526682 [==============================] - 24s 16us/step - loss: 1.3794 - accuracy: 0.6412\n",
      "\n",
      "Epoch 00003: loss improved from 1.41174 to 1.37941, saving model to model3wholesdg_0.1_0.1.h5\n",
      "Epoch 4/50\n",
      "1526682/1526682 [==============================] - 24s 16us/step - loss: 1.3598 - accuracy: 0.6445\n",
      "\n",
      "Epoch 00004: loss improved from 1.37941 to 1.35978, saving model to model3wholesdg_0.1_0.1.h5\n",
      "Epoch 5/50\n",
      "1526682/1526682 [==============================] - 25s 16us/step - loss: 1.3433 - accuracy: 0.6470\n",
      "\n",
      "Epoch 00005: loss improved from 1.35978 to 1.34329, saving model to model3wholesdg_0.1_0.1.h5\n",
      "Epoch 6/50\n",
      "1526682/1526682 [==============================] - 24s 16us/step - loss: 1.3289 - accuracy: 0.6493\n",
      "\n",
      "Epoch 00006: loss improved from 1.34329 to 1.32890, saving model to model3wholesdg_0.1_0.1.h5\n",
      "Epoch 7/50\n",
      "1526682/1526682 [==============================] - 24s 16us/step - loss: 1.3158 - accuracy: 0.6515\n",
      "\n",
      "Epoch 00007: loss improved from 1.32890 to 1.31581, saving model to model3wholesdg_0.1_0.1.h5\n",
      "Epoch 8/50\n",
      "1526682/1526682 [==============================] - 24s 16us/step - loss: 1.3050 - accuracy: 0.6532\n",
      "\n",
      "Epoch 00008: loss improved from 1.31581 to 1.30498, saving model to model3wholesdg_0.1_0.1.h5\n",
      "Epoch 9/50\n",
      "1526682/1526682 [==============================] - 25s 16us/step - loss: 1.2934 - accuracy: 0.6553\n",
      "\n",
      "Epoch 00009: loss improved from 1.30498 to 1.29342, saving model to model3wholesdg_0.1_0.1.h5\n",
      "Epoch 10/50\n",
      "1526682/1526682 [==============================] - 25s 16us/step - loss: 1.2843 - accuracy: 0.6569\n",
      "\n",
      "Epoch 00010: loss improved from 1.29342 to 1.28429, saving model to model3wholesdg_0.1_0.1.h5\n",
      "Epoch 11/50\n",
      "1526682/1526682 [==============================] - 25s 16us/step - loss: 1.2747 - accuracy: 0.6584\n",
      "\n",
      "Epoch 00011: loss improved from 1.28429 to 1.27466, saving model to model3wholesdg_0.1_0.1.h5\n",
      "Epoch 12/50\n",
      "1526682/1526682 [==============================] - 25s 17us/step - loss: 1.2660 - accuracy: 0.6600\n",
      "\n",
      "Epoch 00012: loss improved from 1.27466 to 1.26604, saving model to model3wholesdg_0.1_0.1.h5\n",
      "Epoch 13/50\n",
      "1526682/1526682 [==============================] - 25s 17us/step - loss: 1.2580 - accuracy: 0.6615\n",
      "\n",
      "Epoch 00013: loss improved from 1.26604 to 1.25801, saving model to model3wholesdg_0.1_0.1.h5\n",
      "Epoch 14/50\n",
      "1526682/1526682 [==============================] - 26s 17us/step - loss: 1.2504 - accuracy: 0.6629\n",
      "\n",
      "Epoch 00014: loss improved from 1.25801 to 1.25045, saving model to model3wholesdg_0.1_0.1.h5\n",
      "Epoch 15/50\n",
      "1526682/1526682 [==============================] - 25s 17us/step - loss: 1.2450 - accuracy: 0.6639\n",
      "\n",
      "Epoch 00015: loss improved from 1.25045 to 1.24500, saving model to model3wholesdg_0.1_0.1.h5\n",
      "Epoch 16/50\n",
      "1526682/1526682 [==============================] - 26s 17us/step - loss: 1.2379 - accuracy: 0.6652\n",
      "\n",
      "Epoch 00016: loss improved from 1.24500 to 1.23790, saving model to model3wholesdg_0.1_0.1.h5\n",
      "Epoch 17/50\n",
      "1526682/1526682 [==============================] - 26s 17us/step - loss: 1.2321 - accuracy: 0.6661\n",
      "\n",
      "Epoch 00017: loss improved from 1.23790 to 1.23209, saving model to model3wholesdg_0.1_0.1.h5\n",
      "Epoch 18/50\n",
      "1526682/1526682 [==============================] - 26s 17us/step - loss: 1.2261 - accuracy: 0.6674\n",
      "\n",
      "Epoch 00018: loss improved from 1.23209 to 1.22610, saving model to model3wholesdg_0.1_0.1.h5\n",
      "Epoch 19/50\n",
      "1526682/1526682 [==============================] - 26s 17us/step - loss: 1.2211 - accuracy: 0.6682\n",
      "\n",
      "Epoch 00019: loss improved from 1.22610 to 1.22106, saving model to model3wholesdg_0.1_0.1.h5\n",
      "Epoch 20/50\n",
      "1526682/1526682 [==============================] - 26s 17us/step - loss: 1.2156 - accuracy: 0.6693\n",
      "\n",
      "Epoch 00020: loss improved from 1.22106 to 1.21564, saving model to model3wholesdg_0.1_0.1.h5\n",
      "Epoch 21/50\n",
      "1526682/1526682 [==============================] - 26s 17us/step - loss: 1.2116 - accuracy: 0.6701\n",
      "\n",
      "Epoch 00021: loss improved from 1.21564 to 1.21165, saving model to model3wholesdg_0.1_0.1.h5\n",
      "Epoch 22/50\n",
      "1526682/1526682 [==============================] - 26s 17us/step - loss: 1.2080 - accuracy: 0.6706\n",
      "\n",
      "Epoch 00022: loss improved from 1.21165 to 1.20796, saving model to model3wholesdg_0.1_0.1.h5\n",
      "Epoch 23/50\n",
      "1526682/1526682 [==============================] - 27s 17us/step - loss: 1.2030 - accuracy: 0.6716\n",
      "\n",
      "Epoch 00023: loss improved from 1.20796 to 1.20299, saving model to model3wholesdg_0.1_0.1.h5\n",
      "Epoch 24/50\n",
      "1526682/1526682 [==============================] - 27s 17us/step - loss: 1.1997 - accuracy: 0.6722\n",
      "\n",
      "Epoch 00024: loss improved from 1.20299 to 1.19969, saving model to model3wholesdg_0.1_0.1.h5\n",
      "Epoch 25/50\n",
      "1526682/1526682 [==============================] - 26s 17us/step - loss: 1.1957 - accuracy: 0.6729\n",
      "\n",
      "Epoch 00025: loss improved from 1.19969 to 1.19566, saving model to model3wholesdg_0.1_0.1.h5\n",
      "Epoch 26/50\n",
      "1526682/1526682 [==============================] - 24s 16us/step - loss: 1.1921 - accuracy: 0.6734\n",
      "\n",
      "Epoch 00026: loss improved from 1.19566 to 1.19206, saving model to model3wholesdg_0.1_0.1.h5\n",
      "Epoch 27/50\n",
      "1526682/1526682 [==============================] - 24s 16us/step - loss: 1.1884 - accuracy: 0.6740\n",
      "\n",
      "Epoch 00027: loss improved from 1.19206 to 1.18837, saving model to model3wholesdg_0.1_0.1.h5\n",
      "Epoch 28/50\n",
      "1526682/1526682 [==============================] - 24s 16us/step - loss: 1.1859 - accuracy: 0.6746\n",
      "\n",
      "Epoch 00028: loss improved from 1.18837 to 1.18589, saving model to model3wholesdg_0.1_0.1.h5\n",
      "Epoch 29/50\n",
      "1526682/1526682 [==============================] - 24s 16us/step - loss: 1.1826 - accuracy: 0.6753\n",
      "\n",
      "Epoch 00029: loss improved from 1.18589 to 1.18257, saving model to model3wholesdg_0.1_0.1.h5\n",
      "Epoch 30/50\n",
      "1526682/1526682 [==============================] - 24s 16us/step - loss: 1.1804 - accuracy: 0.6758\n",
      "\n",
      "Epoch 00030: loss improved from 1.18257 to 1.18038, saving model to model3wholesdg_0.1_0.1.h5\n",
      "Epoch 31/50\n",
      "1526682/1526682 [==============================] - 24s 16us/step - loss: 1.1784 - accuracy: 0.6763\n",
      "\n",
      "Epoch 00031: loss improved from 1.18038 to 1.17840, saving model to model3wholesdg_0.1_0.1.h5\n",
      "Epoch 32/50\n",
      "1526682/1526682 [==============================] - 24s 16us/step - loss: 1.1755 - accuracy: 0.6767\n",
      "\n",
      "Epoch 00032: loss improved from 1.17840 to 1.17552, saving model to model3wholesdg_0.1_0.1.h5\n",
      "Epoch 33/50\n",
      "1526682/1526682 [==============================] - 24s 16us/step - loss: 1.1734 - accuracy: 0.6770\n",
      "\n",
      "Epoch 00033: loss improved from 1.17552 to 1.17338, saving model to model3wholesdg_0.1_0.1.h5\n",
      "Epoch 34/50\n",
      "1526682/1526682 [==============================] - 24s 16us/step - loss: 1.1712 - accuracy: 0.6777\n",
      "\n",
      "Epoch 00034: loss improved from 1.17338 to 1.17118, saving model to model3wholesdg_0.1_0.1.h5\n",
      "Epoch 35/50\n",
      "1526682/1526682 [==============================] - 24s 16us/step - loss: 1.1686 - accuracy: 0.6784\n",
      "\n",
      "Epoch 00035: loss improved from 1.17118 to 1.16856, saving model to model3wholesdg_0.1_0.1.h5\n",
      "Epoch 36/50\n",
      "1526682/1526682 [==============================] - 24s 16us/step - loss: 1.1669 - accuracy: 0.6783\n",
      "\n",
      "Epoch 00036: loss improved from 1.16856 to 1.16691, saving model to model3wholesdg_0.1_0.1.h5\n",
      "Epoch 37/50\n",
      "1526682/1526682 [==============================] - 24s 16us/step - loss: 1.1650 - accuracy: 0.6788\n",
      "\n",
      "Epoch 00037: loss improved from 1.16691 to 1.16502, saving model to model3wholesdg_0.1_0.1.h5\n",
      "Epoch 38/50\n",
      "1526682/1526682 [==============================] - 24s 16us/step - loss: 1.1627 - accuracy: 0.6791\n",
      "\n",
      "Epoch 00038: loss improved from 1.16502 to 1.16272, saving model to model3wholesdg_0.1_0.1.h5\n",
      "Epoch 39/50\n",
      "1526682/1526682 [==============================] - 24s 16us/step - loss: 1.1609 - accuracy: 0.6793\n",
      "\n",
      "Epoch 00039: loss improved from 1.16272 to 1.16085, saving model to model3wholesdg_0.1_0.1.h5\n",
      "Epoch 40/50\n"
     ]
    },
    {
     "name": "stdout",
     "output_type": "stream",
     "text": [
      "1526682/1526682 [==============================] - 24s 16us/step - loss: 1.1590 - accuracy: 0.6802\n",
      "\n",
      "Epoch 00040: loss improved from 1.16085 to 1.15904, saving model to model3wholesdg_0.1_0.1.h5\n",
      "Epoch 41/50\n",
      "1526682/1526682 [==============================] - 25s 17us/step - loss: 1.1567 - accuracy: 0.6808\n",
      "\n",
      "Epoch 00041: loss improved from 1.15904 to 1.15675, saving model to model3wholesdg_0.1_0.1.h5\n",
      "Epoch 42/50\n",
      "1526682/1526682 [==============================] - 26s 17us/step - loss: 1.1555 - accuracy: 0.6809\n",
      "\n",
      "Epoch 00042: loss improved from 1.15675 to 1.15547, saving model to model3wholesdg_0.1_0.1.h5\n",
      "Epoch 43/50\n",
      "1526682/1526682 [==============================] - 28s 18us/step - loss: 1.1556 - accuracy: 0.6811\n",
      "\n",
      "Epoch 00043: loss did not improve from 1.15547\n",
      "Epoch 44/50\n",
      "1526682/1526682 [==============================] - 24s 16us/step - loss: 1.1531 - accuracy: 0.6813\n",
      "\n",
      "Epoch 00044: loss improved from 1.15547 to 1.15311, saving model to model3wholesdg_0.1_0.1.h5\n",
      "Epoch 45/50\n",
      "1526682/1526682 [==============================] - 24s 16us/step - loss: 1.1528 - accuracy: 0.6815\n",
      "\n",
      "Epoch 00045: loss improved from 1.15311 to 1.15276, saving model to model3wholesdg_0.1_0.1.h5\n",
      "Epoch 46/50\n",
      "1526682/1526682 [==============================] - 24s 16us/step - loss: 1.1501 - accuracy: 0.6820\n",
      "\n",
      "Epoch 00046: loss improved from 1.15276 to 1.15014, saving model to model3wholesdg_0.1_0.1.h5\n",
      "Epoch 47/50\n",
      "1526682/1526682 [==============================] - 24s 16us/step - loss: 1.1501 - accuracy: 0.6820\n",
      "\n",
      "Epoch 00047: loss improved from 1.15014 to 1.15009, saving model to model3wholesdg_0.1_0.1.h5\n",
      "Epoch 48/50\n",
      "1526682/1526682 [==============================] - 24s 16us/step - loss: 1.1487 - accuracy: 0.6823\n",
      "\n",
      "Epoch 00048: loss improved from 1.15009 to 1.14867, saving model to model3wholesdg_0.1_0.1.h5\n",
      "Epoch 49/50\n",
      "1526682/1526682 [==============================] - 24s 16us/step - loss: 1.1475 - accuracy: 0.6822\n",
      "\n",
      "Epoch 00049: loss improved from 1.14867 to 1.14746, saving model to model3wholesdg_0.1_0.1.h5\n",
      "Epoch 50/50\n",
      "1526682/1526682 [==============================] - 24s 16us/step - loss: 1.1463 - accuracy: 0.6827\n",
      "\n",
      "Epoch 00050: loss improved from 1.14746 to 1.14629, saving model to model3wholesdg_0.1_0.1.h5\n"
     ]
    }
   ],
   "source": [
    "history = model4.fit(trainFinal[0], trainFinal[1], epochs=50, batch_size=1000,  callbacks = callbacks_list)\n",
    "model4.save(\"model4\"+standardization+optimizer+\".h5\")"
   ]
  },
  {
   "cell_type": "code",
   "execution_count": 22,
   "metadata": {},
   "outputs": [
    {
     "data": {
      "image/png": "[encoded data removed]",
      "text/plain": [
       "<Figure size 1080x288 with 1 Axes>"
      ]
     },
     "metadata": {
      "needs_background": "light"
     },
     "output_type": "display_data"
    }
   ],
   "source": [
    "plt.plot(history.history['accuracy'])\n",
    "plt.plot(history.history['loss'])\n",
    "plt.title('model accuracy')\n",
    "plt.ylabel('accuracy')\n",
    "plt.xlabel('epoch')\n",
    "plt.legend(['train', 'loss'], loc='upper left')\n",
    "plt.show()"
   ]
  },
  {
   "cell_type": "markdown",
   "metadata": {},
   "source": [
    "## Model custom"
   ]
  },
  {
   "cell_type": "code",
   "execution_count": null,
   "metadata": {},
   "outputs": [],
   "source": []
  },
  {
   "cell_type": "markdown",
   "metadata": {},
   "source": [
    "# Test"
   ]
  },
  {
   "cell_type": "code",
   "execution_count": 65,
   "metadata": {},
   "outputs": [
    {
     "name": "stdout",
     "output_type": "stream",
     "text": [
      "(100,)\n",
      "[31 32 42 42 42 42 15 15 15 15 15 15 15 15 15 16 17  6  7  8 52 53 54 36\n",
      " 37 38 18 19 20 24 25 26 36 37 38 42 42 42 42 42 42 42 12 13 14 43 44 45\n",
      " 58 59 60 21 22 23 33 34 35 30 31 32 39 39 39 39 39 39 39 39 39 39 39 39\n",
      " 39 39 39 39 39 39 39 39 39 39 39 39 39 39 39 39 39 39 39 39 39 39 39 39\n",
      " 39 39 39 39]\n"
     ]
    },
    {
     "data": {
      "image/png": "[encoded data removed]",
      "text/plain": [
       "<Figure size 1080x288 with 1 Axes>"
      ]
     },
     "metadata": {
      "needs_background": "light"
     },
     "output_type": "display_data"
    }
   ],
   "source": [
    "modelTest = model1# model 1-5\n",
    "samplesStart = 500\n",
    "numberOfSamples = 100\n",
    "predictions = modelTest.predict(testFinal[0][samplesStart:samplesStart+numberOfSamples], use_multiprocessing=True)\n",
    "\n",
    "plt.pcolormesh(predictions.T)\n",
    "print(np.arange(0,numberOfSamples).shape)\n",
    "print(np.argmax(testFinal[1][samplesStart:samplesStart+numberOfSamples], axis = 1))\n",
    "plt.scatter(np.arange(0+0.5, numberOfSamples+0.5), np.argmax(testFinal[1][samplesStart:samplesStart+numberOfSamples], axis = 1), c = \"r\",s=6, alpha=0.5)\n",
    "plt.show()"
   ]
  },
  {
   "cell_type": "markdown",
   "metadata": {},
   "source": [
    "## Detailed Evaluation"
   ]
  },
  {
   "cell_type": "code",
   "execution_count": 66,
   "metadata": {},
   "outputs": [
    {
     "name": "stdout",
     "output_type": "stream",
     "text": [
      "1526682/1526682 [==============================] - 39s 26us/step\n",
      "Test score: 1.740115066778378\n",
      "Test accuracy: 0.5806618332862854\n"
     ]
    }
   ],
   "source": [
    "score, acc = modelTest.evaluate(x=testFinal[0], y=testFinal[1])\n",
    "print('Test score:', score)\n",
    "print('Test accuracy:', acc)"
   ]
  },
  {
   "cell_type": "markdown",
   "metadata": {},
   "source": [
    "## frame by frame"
   ]
  },
  {
   "cell_type": "code",
   "execution_count": null,
   "metadata": {},
   "outputs": [],
   "source": [
    "predictions = modelTest.predict(testFinal[0], use_multiprocessing=True)\n",
    "predictionMax = np.argmax(predictions, axis=1)\n",
    "testLabels = np.argmax(testFinal[1], axis=1)"
   ]
  },
  {
   "cell_type": "code",
   "execution_count": null,
   "metadata": {},
   "outputs": [],
   "source": [
    "equal = np.sum(predictionMax == testLabels)\n",
    "\n",
    "print(\"Frame by frame accuracy is: \", equal/testFinal[0].shape[0])"
   ]
  },
  {
   "cell_type": "markdown",
   "metadata": {},
   "source": [
    "## frame by frame merged"
   ]
  },
  {
   "cell_type": "code",
   "execution_count": null,
   "metadata": {},
   "outputs": [],
   "source": [
    "predictions = modelTest.predict(testFinal[0], use_multiprocessing=True)\n",
    "predictionMax = np.argmax(predictions, axis=1)\n",
    "testLabels = np.argmax(testFinal[1], axis=1)"
   ]
  },
  {
   "cell_type": "code",
   "execution_count": null,
   "metadata": {},
   "outputs": [],
   "source": [
    "correct = 0\n",
    "for i in range(predictionMax.shape[0]):\n",
    "    #print(stateList[predictionMax[i]].split(\"_\")[0])\n",
    "    if stateList[predictionMax[i]].split(\"_\")[0] == stateList[testLabels[i]].split(\"_\")[0]:\n",
    "        correct += 1\n",
    "print(\"Frame by frame merged accuracy is: \", correct/testFinal[0].shape[0])"
   ]
  },
  {
   "cell_type": "markdown",
   "metadata": {},
   "source": [
    "## edit distance"
   ]
  },
  {
   "cell_type": "code",
   "execution_count": null,
   "metadata": {},
   "outputs": [],
   "source": [
    "predictions = modelTest.predict(testFinal[0], use_multiprocessing=True)\n",
    "predictionMax = np.argmax(predictions, axis=1)\n",
    "testLabels = np.argmax(testFinal[1], axis=1)\n",
    "print(testLabels.shape)\n",
    "print(predictionMax.shape)"
   ]
  },
  {
   "cell_type": "code",
   "execution_count": null,
   "metadata": {
    "scrolled": true
   },
   "outputs": [],
   "source": [
    "distances = np.array([])\n",
    "stepsize = 200000\n",
    "for k in range(0, testLabels.shape[0], stepsize):\n",
    "    print(k,\"/\",testLabels.shape[0])\n",
    "    pathPredict = [stateList[predictionMax[k]]]\n",
    "    for i in range(k, k+stepsize):\n",
    "        #print(stateList[predictionMax[i]])\n",
    "        if i < predictionMax.shape[0] and stateList[predictionMax[i]] != pathPredict[-1]:\n",
    "            #print(stateList[predictionMax[i]])\n",
    "            pathPredict.append(stateList[predictionMax[i]])\n",
    "\n",
    "    pathReal = [stateList[testLabels[0]]]\n",
    "    for i in range(k, k+stepsize):\n",
    "        if i < testFinal[1].shape[0] and stateList[testLabels[i]] != pathReal[-1]:\n",
    "            pathReal.append(stateList[testLabels[i]])\n",
    "            #print(len(pathReal))\n",
    "    #print(\"calculate edit dist\")\n",
    "    time.sleep(2)\n",
    "    print(len(pathPredict), \" - \", len(pathReal))\n",
    "    dist = editdistance.eval(pathPredict, pathReal)\n",
    "    print(\"Frame by fram edit distance normalized in step = \", dist/(len(pathReal)+len(pathPredict)))\n",
    "    distances = np.append(distances, dist/(len(pathReal)+len(pathPredict)))\n",
    "\n",
    "print(\"average edit distance:\", distances.mean())"
   ]
  },
  {
   "cell_type": "markdown",
   "metadata": {},
   "source": [
    "## edit distance classes"
   ]
  },
  {
   "cell_type": "code",
   "execution_count": null,
   "metadata": {},
   "outputs": [],
   "source": [
    "predictions = modelTest.predict(testFinal[0], use_multiprocessing=True)\n",
    "predictionMax = np.argmax(predictions, axis=1)\n",
    "testLabels = np.argmax(testFinal[1], axis=1)"
   ]
  },
  {
   "cell_type": "code",
   "execution_count": null,
   "metadata": {},
   "outputs": [],
   "source": [
    "distances = np.array([])\n",
    "stepsize = 400000\n",
    "for k in range(0, testLabels.shape[0], stepsize):\n",
    "    print(k,\"/\",testLabels.shape[0])\n",
    "    pathPredict = [stateList[predictionMax[k]].split(\"_\")[k] ]\n",
    "    for i in range(k, k+stepsize):\n",
    "        #print(stateList[predictionMax[i]])\n",
    "        if i < predictionMax.shape[0] and stateList[predictionMax[i]].split(\"_\")[0] != pathPredict[-1]:\n",
    "            #print(stateList[predictionMax[i]])\n",
    "            pathPredict.append(stateList[predictionMax[i]].split(\"_\")[0] )\n",
    "\n",
    "    pathReal = [stateList[testLabels[0]].split(\"_\")[k] ]\n",
    "    for i in range(k, k+stepsize):\n",
    "        if i < testFinal[1].shape[0] and stateList[testLabels[i]].split(\"_\")[0] != pathReal[-1]:\n",
    "            pathReal.append(stateList[testLabels[i]].split(\"_\")[0])\n",
    "            #print(len(pathReal))\n",
    "    #print(\"calculate edit dist\")\n",
    "    time.sleep(2)\n",
    "    print(len(pathPredict), \" - \", len(pathReal))\n",
    "    print(pathPredict[:20], \" - \", pathReal[:20])\n",
    "    \n",
    "    dist = editdistance.eval(pathPredict, pathReal)\n",
    "    print(\"Frame by fram edit distance normalized in step = \", dist/(len(pathReal)+len(pathPredict)))\n",
    "    distances = np.append(distances, dist/(len(pathReal)+len(pathPredict)))\n",
    "\n",
    "print(\"average edit distance:\", distances.mean())"
   ]
  },
  {
   "cell_type": "code",
   "execution_count": null,
   "metadata": {},
   "outputs": [],
   "source": [
    "#old too much RAM\n",
    "\n",
    "\n",
    "pathPredict = [stateList[predictionMax[0]]]\n",
    "for i in range(1, predictionMax.shape[0]):\n",
    "    if stateList[predictionMax[i]].split(\"_\")[0] != pathPredict[-1]:\n",
    "        pathPredict.append(stateList[predictionMax[i]].split(\"_\")[0] )\n",
    "        \n",
    "pathReal = [stateList[np.argmax(testFinal[1][0])]]\n",
    "for i in range(1, testFinal[1].shape[0]):\n",
    "    #print(stateList[testLabels[i]])\n",
    "    if stateList[testLabels[i]].split(\"_\")[0] != pathReal[-1]:\n",
    "        pathReal.append(stateList[testLabels[i]].split(\"_\")[0])\n",
    "\n",
    "print(len(pathPredict), \" - \", len(pathReal))\n",
    "\n",
    "#dist = editdistance.eval(pathPredict, pathReal)\n",
    "#print(\"Frame by fram edit distance normalized\", dist/(len(pathReal)+len(pathPredict)))"
   ]
  }
 ],
 "metadata": {
  "kernelspec": {
   "display_name": "Python 3",
   "language": "python",
   "name": "python3"
  },
  "language_info": {
   "codemirror_mode": {
    "name": "ipython",
    "version": 3
   },
   "file_extension": ".py",
   "mimetype": "text/x-python",
   "name": "python",
   "nbconvert_exporter": "python",
   "pygments_lexer": "ipython3",
   "version": "3.6.9"
  }
 },
 "nbformat": 4,
 "nbformat_minor": 4
}
